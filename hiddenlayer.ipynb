{
  "nbformat": 4,
  "nbformat_minor": 0,
  "metadata": {
    "colab": {
      "name": "hiddenlayer.ipynb",
      "private_outputs": true,
      "provenance": [],
      "collapsed_sections": [],
      "authorship_tag": "ABX9TyPSgptHcW9ZucMyH3n1i54D",
      "include_colab_link": true
    },
    "kernelspec": {
      "name": "python3",
      "display_name": "Python 3"
    }
  },
  "cells": [
    {
      "cell_type": "markdown",
      "metadata": {
        "id": "view-in-github",
        "colab_type": "text"
      },
      "source": [
        "<a href=\"https://colab.research.google.com/github/ktb5891/colab/blob/main/hiddenlayer.ipynb\" target=\"_parent\"><img src=\"https://colab.research.google.com/assets/colab-badge.svg\" alt=\"Open In Colab\"/></a>"
      ]
    },
    {
      "cell_type": "markdown",
      "metadata": {
        "id": "3zDBtwdCqZn1"
      },
      "source": [
        "보스턴 집값 예측"
      ]
    },
    {
      "cell_type": "code",
      "metadata": {
        "id": "nnx_-su2cXnY"
      },
      "source": [
        "# 라이브러리 사용\r\n",
        "import tensorflow as tf\r\n",
        "import pandas as pd"
      ],
      "execution_count": null,
      "outputs": []
    },
    {
      "cell_type": "code",
      "metadata": {
        "id": "LWG3oOuZmbMR"
      },
      "source": [
        "# 데이터 준비\r\n",
        "path = 'https://raw.githubusercontent.com/blackdew/tensorflow1/master/csv/boston.csv'\r\n",
        "boston = pd.read_csv(path)\r\n",
        "\r\n",
        "# 종속, 독립 변수\r\n",
        "Ind = boston[['crim', 'zn', 'indus', 'chas', 'nox','rm', 'age', 'dis', 'rad', 'tax','ptratio', 'b', 'lstat']]\r\n",
        "Dep = boston[['medv']]\r\n",
        "\r\n",
        "print(Ind.shape,Dep.shape)"
      ],
      "execution_count": null,
      "outputs": []
    },
    {
      "cell_type": "code",
      "metadata": {
        "id": "o7dZY8lIm7Zn"
      },
      "source": [
        "# 모델의 구조 생서\r\n",
        "X = tf.keras.layers.Input(shape=[13])\r\n",
        "H = tf.keras.layers.Dense(10, activation='swish')(X)\r\n",
        "Y = tf.keras.layers.Dense(1)(H)\r\n",
        "\r\n",
        "model = tf.keras.models.Model(X,Y)\r\n",
        "model.compile(loss='mse')"
      ],
      "execution_count": null,
      "outputs": []
    },
    {
      "cell_type": "code",
      "metadata": {
        "id": "7sMBeysQnWf3"
      },
      "source": [
        "# 모델 구조 확인\r\n",
        "model.summary()"
      ],
      "execution_count": null,
      "outputs": []
    },
    {
      "cell_type": "code",
      "metadata": {
        "id": "KcX8BGEqnaX_"
      },
      "source": [
        "# 데이터로 모델 학습\r\n",
        "model.fit(Ind,Dep,epochs=100)"
      ],
      "execution_count": null,
      "outputs": []
    },
    {
      "cell_type": "code",
      "metadata": {
        "id": "25IADKCJnhAX"
      },
      "source": [
        "# 모델 이용\r\n",
        "print(model.predict(Ind[:5]))\r\n",
        "print(Dep[:5])"
      ],
      "execution_count": null,
      "outputs": []
    },
    {
      "cell_type": "markdown",
      "metadata": {
        "id": "hpU_DHVYoOIR"
      },
      "source": [
        "아이리스 품종 분류"
      ]
    },
    {
      "cell_type": "code",
      "metadata": {
        "id": "SxOSLaTQnqXH"
      },
      "source": [
        "# 데이터 준비\r\n",
        "path = 'https://raw.githubusercontent.com/blackdew/tensorflow1/master/csv/iris.csv'\r\n",
        "iris = pd.read_csv(path)\r\n",
        "\r\n",
        "# 원핫인코딩\r\n",
        "iris = pd.get_dummies(iris)\r\n",
        "\r\n",
        "# 종속, 독립 변수\r\n",
        "Ind = iris[['꽃잎길이', '꽃잎폭', '꽃받침길이', '꽃받침폭']]\r\n",
        "Dep = iris[['품종_setosa', '품종_versicolor', '품종_virginica']]\r\n",
        "print(Ind.shape,Dep.shape)"
      ],
      "execution_count": null,
      "outputs": []
    },
    {
      "cell_type": "code",
      "metadata": {
        "id": "eCN4bLTjoM9U"
      },
      "source": [
        "# 모델 구조 생성\r\n",
        "X = tf.keras.layers.Input(shape=[4])\r\n",
        "H = tf.keras.layers.Dense(8, activation='swish')(X)\r\n",
        "H = tf.keras.layers.Dense(8, activation='swish')(H)\r\n",
        "H = tf.keras.layers.Dense(8, activation='swish')(H)\r\n",
        "Y = tf.keras.layers.Dense(3, activation='softmax')(H)\r\n",
        "\r\n",
        "model = tf.keras.models.Model(X, Y)\r\n",
        "model.compile(loss='categorical_crossentropy',metrics='accuracy')"
      ],
      "execution_count": null,
      "outputs": []
    },
    {
      "cell_type": "code",
      "metadata": {
        "id": "HQNsqf-GpVfX"
      },
      "source": [
        "# 모델 구조 확인\r\n",
        "model.summary()"
      ],
      "execution_count": null,
      "outputs": []
    },
    {
      "cell_type": "code",
      "metadata": {
        "id": "dz67GNihpYiI"
      },
      "source": [
        "# 데이터로 모델 학습\r\n",
        "model.fit(Ind,Dep,epochs=100)"
      ],
      "execution_count": null,
      "outputs": []
    },
    {
      "cell_type": "code",
      "metadata": {
        "id": "BP0ysRQdpgou"
      },
      "source": [
        "# 모델 사용\r\n",
        "print(model.predict(Ind[0:5]))\r\n",
        "print(Dep[0:5])"
      ],
      "execution_count": null,
      "outputs": []
    },
    {
      "cell_type": "code",
      "metadata": {
        "id": "XyS_O6FxqA3Y"
      },
      "source": [
        ""
      ],
      "execution_count": null,
      "outputs": []
    }
  ]
}