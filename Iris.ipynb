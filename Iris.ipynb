{
  "nbformat": 4,
  "nbformat_minor": 0,
  "metadata": {
    "colab": {
      "name": "Iris.ipynb",
      "private_outputs": true,
      "provenance": [],
      "authorship_tag": "ABX9TyNoc8x87UYG1RnOidrB1Bsi",
      "include_colab_link": true
    },
    "kernelspec": {
      "name": "python3",
      "display_name": "Python 3"
    }
  },
  "cells": [
    {
      "cell_type": "markdown",
      "metadata": {
        "id": "view-in-github",
        "colab_type": "text"
      },
      "source": [
        "<a href=\"https://colab.research.google.com/github/ktb5891/colab/blob/main/Iris.ipynb\" target=\"_parent\"><img src=\"https://colab.research.google.com/assets/colab-badge.svg\" alt=\"Open In Colab\"/></a>"
      ]
    },
    {
      "cell_type": "code",
      "metadata": {
        "id": "h2iSnd6YYyV2"
      },
      "source": [
        "# 라이브러리 사용\r\n",
        "import tensorflow as tf\r\n",
        "import pandas as pd"
      ],
      "execution_count": null,
      "outputs": []
    },
    {
      "cell_type": "code",
      "metadata": {
        "id": "Ts2sgAqgZawf"
      },
      "source": [
        "# 과거의 데이터 준비\r\n",
        "path = 'https://raw.githubusercontent.com/blackdew/tensorflow1/master/csv/iris.csv'\r\n",
        "iris = pd.read_csv(path)\r\n",
        "iris.head()"
      ],
      "execution_count": null,
      "outputs": []
    },
    {
      "cell_type": "code",
      "metadata": {
        "id": "h-rmPZ5jZsaz"
      },
      "source": [
        "# 원핫인코딩 (범주형 -> 더미변수로 변환)\r\n",
        "인코딩 = pd.get_dummies(iris)\r\n",
        "인코딩.head()"
      ],
      "execution_count": null,
      "outputs": []
    },
    {
      "cell_type": "code",
      "metadata": {
        "id": "ir_bDZv2Z8ok"
      },
      "source": [
        "# 칼럼이름 출력\r\n",
        "print(인코딩.columns)"
      ],
      "execution_count": null,
      "outputs": []
    },
    {
      "cell_type": "code",
      "metadata": {
        "id": "UaKHp50yaM71"
      },
      "source": [
        "# 독립, 종속변수\r\n",
        "Ind = 인코딩[['꽃잎길이', '꽃잎폭', '꽃받침길이', '꽃받침폭']]\r\n",
        "Dep = 인코딩[['품종_setosa', '품종_versicolor','품종_virginica']]\r\n",
        "print(Ind.shape,Dep.shape)"
      ],
      "execution_count": null,
      "outputs": []
    },
    {
      "cell_type": "code",
      "metadata": {
        "id": "QexQGTbPaqkB"
      },
      "source": [
        "# 모델의 구조 생성\r\n",
        "X = tf.keras.layers.Input(shape=[4])\r\n",
        "Y = tf.keras.layers.Dense(3,activation='softmax')(X)\r\n",
        "model = tf.keras.models.Model(X,Y)\r\n",
        "model.compile(loss='categorical_crossentropy',metrics = 'accuracy')"
      ],
      "execution_count": null,
      "outputs": []
    },
    {
      "cell_type": "code",
      "metadata": {
        "id": "VAWfG9dLbKAt"
      },
      "source": [
        "# 데이터로 모델 학습\r\n",
        "model.fit(Ind,Dep,epochs=100)"
      ],
      "execution_count": null,
      "outputs": []
    },
    {
      "cell_type": "code",
      "metadata": {
        "id": "ZAKxlebPbcBH"
      },
      "source": [
        "# 모델 이용\r\n",
        "print(model.predict(Ind[:5]))\r\n",
        "print(Dep[:5])\r\n",
        "\r\n",
        "print(model.predict(Ind[-5:]))\r\n",
        "print(Dep[-5:])"
      ],
      "execution_count": null,
      "outputs": []
    },
    {
      "cell_type": "code",
      "metadata": {
        "id": "VgIntBGWbzex"
      },
      "source": [
        "# weight & bias 출력\r\n",
        "print(model.get_weights())"
      ],
      "execution_count": null,
      "outputs": []
    }
  ]
}