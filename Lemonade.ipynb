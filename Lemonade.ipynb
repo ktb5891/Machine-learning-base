{
  "nbformat": 4,
  "nbformat_minor": 0,
  "metadata": {
    "colab": {
      "name": "Lemonade.ipynb",
      "private_outputs": true,
      "provenance": [],
      "collapsed_sections": [],
      "authorship_tag": "ABX9TyN3XN43aXIIEOINLoCTgKIH",
      "include_colab_link": true
    },
    "kernelspec": {
      "name": "python3",
      "display_name": "Python 3"
    }
  },
  "cells": [
    {
      "cell_type": "markdown",
      "metadata": {
        "id": "view-in-github",
        "colab_type": "text"
      },
      "source": [
        "<a href=\"https://colab.research.google.com/github/ktb5891/colab/blob/main/Lemonade.ipynb\" target=\"_parent\"><img src=\"https://colab.research.google.com/assets/colab-badge.svg\" alt=\"Open In Colab\"/></a>"
      ]
    },
    {
      "cell_type": "code",
      "metadata": {
        "id": "bSqkR4XFwao-"
      },
      "source": [
        "# 라이브러리 사용\r\n",
        "import tensorflow as tf\r\n",
        "import pandas as pd"
      ],
      "execution_count": null,
      "outputs": []
    },
    {
      "cell_type": "code",
      "metadata": {
        "id": "Q9Kr5HWJwmP7"
      },
      "source": [
        "# 데이터 준비\r\n",
        "path = 'https://raw.githubusercontent.com/blackdew/tensorflow1/master/csv/lemonade.csv'\r\n",
        "lemon = pd.read_csv(path)\r\n",
        "lemon.head()"
      ],
      "execution_count": null,
      "outputs": []
    },
    {
      "cell_type": "code",
      "metadata": {
        "id": "An6dqBlew5ez"
      },
      "source": [
        "# 종속변수, 독립변수\r\n",
        "Ind = lemon[['온도']]\r\n",
        "Dep = lemon[['판매량']]\r\n",
        "print(Ind.shape,Dep.shape)"
      ],
      "execution_count": null,
      "outputs": []
    },
    {
      "cell_type": "code",
      "metadata": {
        "id": "A04VNMSoxRXM"
      },
      "source": [
        "# 모델 만들기\r\n",
        "X = tf.keras.layers.Input(shape=[1])\r\n",
        "Y = tf.keras.layers.Dense(1)(X)\r\n",
        "model = tf.keras.models.Model(X,Y)\r\n",
        "model.compile(loss='mse')"
      ],
      "execution_count": null,
      "outputs": []
    },
    {
      "cell_type": "code",
      "metadata": {
        "id": "osHJ2NmUxng0"
      },
      "source": [
        "# 모델 학습\r\n",
        "model.fit(Ind,Dep,epochs=1000,verbose=0)\r\n",
        "model.fit(Ind,Dep,epochs=10)"
      ],
      "execution_count": null,
      "outputs": []
    },
    {
      "cell_type": "code",
      "metadata": {
        "id": "RXckuaohyGtK"
      },
      "source": [
        "# 모델을 이용합니다. \r\n",
        "print(model.predict(Ind))\r\n",
        "print(model.predict([[15]]))"
      ],
      "execution_count": null,
      "outputs": []
    }
  ]
}